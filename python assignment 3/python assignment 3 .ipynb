{
 "cells": [
  {
   "cell_type": "code",
   "execution_count": 3,
   "metadata": {},
   "outputs": [
    {
     "name": "stdout",
     "output_type": "stream",
     "text": [
      "Twinkle Twinkle, little star,\n",
      " \t How i wonder wat you are ! \n",
      "\t\t Up above the world so high \n",
      "\t\t like a diamond in te sky\n",
      "  Twinkle Twinkle, little star, \n",
      " \t How i wonder wat you are !  \n"
     ]
    }
   ],
   "source": [
    "'''Q1 : Write a Python program to print the following string in a specific format (see the \n",
    "output). \n",
    "Twinkle, twinkle, little star, \n",
    " \n",
    "How I wonder what you are! \n",
    " \n",
    "Up above the world so high, \n",
    "Like a diamond in the sky. \n",
    " \n",
    "Twinkle, twinkle, little star  \n",
    "How I wonder what you are '''\n",
    "print (\"Twinkle Twinkle, little star,\\n \\t How i wonder wat you are ! \\n\\t\\t Up above the world so high \\n\\t\\t like a diamond in te sky\\n  Twinkle Twinkle, little star, \\n \\t How i wonder wat you are !  \");"
   ]
  },
  {
   "cell_type": "code",
   "execution_count": 4,
   "metadata": {},
   "outputs": [
    {
     "name": "stdout",
     "output_type": "stream",
     "text": [
      "3.7.6\n"
     ]
    }
   ],
   "source": [
    "# Q2 :Write a Python program to get the Python version you are using\n",
    "from platform import python_version\n",
    "print (python_version());"
   ]
  },
  {
   "cell_type": "code",
   "execution_count": 5,
   "metadata": {},
   "outputs": [
    {
     "name": "stdout",
     "output_type": "stream",
     "text": [
      "current date and time is :\n",
      "21-10-23 19:42:20\n"
     ]
    }
   ],
   "source": [
    "# Q3 : Write a Python program to display the current date and time. \n",
    "import datetime \n",
    "now=datetime.datetime.now()\n",
    "print(\"current date and time is :\")\n",
    "print (now.strftime(\"%y-%m-%d %H:%M:%S\"))"
   ]
  },
  {
   "cell_type": "code",
   "execution_count": 8,
   "metadata": {},
   "outputs": [
    {
     "name": "stdout",
     "output_type": "stream",
     "text": [
      "enter the radius value 2\n",
      "12.56\n"
     ]
    }
   ],
   "source": [
    "'''Q4 : Write a Python program which accepts the radius of a circle from the user and compute \n",
    "the area.'''\n",
    "radius = int(input(\"enter the radius value \"));\n",
    "area = 3.14 * radius**2;\n",
    "print (area);"
   ]
  },
  {
   "cell_type": "code",
   "execution_count": 9,
   "metadata": {},
   "outputs": [
    {
     "name": "stdout",
     "output_type": "stream",
     "text": [
      "enter your first namesaqib \n",
      "enter your last name hussain \n",
      "   n i a s s u h   b i q a s\n"
     ]
    }
   ],
   "source": [
    "'''Q5 :Write a Python program which accepts the user's first and last name and print them in \n",
    "reverse order with a space between them. '''\n",
    "first_name= input(\"enter your first name\");\n",
    "last_name=input(\"enter your last name \");\n",
    "full_name = first_name + last_name;\n",
    "reverse_name= \"\";\n",
    "for i in range(len(full_name)-1,-1,-1):\n",
    "    reverse_name= reverse_name + \" \" + full_name[i];\n",
    "print (reverse_name);"
   ]
  },
  {
   "cell_type": "code",
   "execution_count": 10,
   "metadata": {},
   "outputs": [
    {
     "name": "stdout",
     "output_type": "stream",
     "text": [
      "enter first number2\n",
      "enter second number2\n",
      "4\n"
     ]
    }
   ],
   "source": [
    "# Q6:Write a python program which takes two inputs from user and print them addition\n",
    "num1= int(input(\"enter first number\"));\n",
    "num2= int(input(\"enter second number\"));\n",
    "summition = num1 + num2 ; \n",
    "print ( summition)"
   ]
  },
  {
   "cell_type": "code",
   "execution_count": 11,
   "metadata": {},
   "outputs": [
    {
     "name": "stdout",
     "output_type": "stream",
     "text": [
      "enter your first subject marks40\n",
      "enter your second subject marks40\n",
      "enter your third subject marks40\n",
      "enter your fourth subject marks40\n",
      "enter your fifth subject marks40\n",
      "Grade D\n"
     ]
    }
   ],
   "source": [
    "'''Q7 : Write a program which takes 5 inputs from user for different subject’s marks, total it \n",
    "and generate mark sheet using grades ? '''\n",
    "sub1= int(input(\"enter your first subject marks\"));\n",
    "sub2= int(input(\"enter your second subject marks\"));\n",
    "sub3= int(input(\"enter your third subject marks\"));\n",
    "sub4= int(input(\"enter your fourth subject marks\"));\n",
    "sub5= int(input(\"enter your fifth subject marks\"));\n",
    "percentage = ((sub1+ sub2 + sub3 + sub4 + sub5 )/500 ) * 100;\n",
    "if percentage>=85 and percentage<= 100:\n",
    "    print (\"Grade A + \");\n",
    "elif percentage>=70 and percentage<= 85:\n",
    "    print (\"Grade A  \");\n",
    "elif percentage>=60 and percentage<= 70:\n",
    "    print (\"Grade B \");\n",
    "elif percentage>=50 and percentage<= 60:\n",
    "    print (\"Grade c \");\n",
    "elif percentage>=33 and percentage<= 50:\n",
    "    print (\"Grade D\");\n",
    "else:\n",
    "    print (\" you are fail \");"
   ]
  },
  {
   "cell_type": "code",
   "execution_count": 12,
   "metadata": {},
   "outputs": [
    {
     "name": "stdout",
     "output_type": "stream",
     "text": [
      "enter a number to check is it even or odd4\n",
      "4 is even\n"
     ]
    }
   ],
   "source": [
    "'''Q 8: Write a program which take input from user and identify that the given number is even \n",
    "or odd?'''\n",
    "num = int (input(\"enter a number to check is it even or odd\"));\n",
    "if num%2==0:\n",
    "    print(num,\"is even\");\n",
    "else:\n",
    "    print (num,\" is odd\");"
   ]
  },
  {
   "cell_type": "code",
   "execution_count": 13,
   "metadata": {},
   "outputs": [
    {
     "name": "stdout",
     "output_type": "stream",
     "text": [
      "6\n"
     ]
    }
   ],
   "source": [
    "# Q 9 ; Write a program which print the length of the list? \n",
    "numbers = [1,2,3,4,5,6];\n",
    "print (len(numbers));"
   ]
  },
  {
   "cell_type": "code",
   "execution_count": 14,
   "metadata": {},
   "outputs": [
    {
     "name": "stdout",
     "output_type": "stream",
     "text": [
      "21\n"
     ]
    }
   ],
   "source": [
    "# Q10: Write a Python program to sum all the numeric items in a list?\n",
    "numbers = [1,2,3,4,5,6];\n",
    "total = sum(numbers);\n",
    "print (total);"
   ]
  },
  {
   "cell_type": "code",
   "execution_count": 15,
   "metadata": {},
   "outputs": [
    {
     "name": "stdout",
     "output_type": "stream",
     "text": [
      " smallest number in list is: 5\n",
      " Largest number in list is: 9262\n"
     ]
    }
   ],
   "source": [
    " # Q11: Write a Python program to get the largest number from a numeric list. \n",
    "numbers = [6,5,282,52,52,9262,7];\n",
    "numbers.sort();\n",
    "print (\" smallest number in list is:\", numbers[0]);\n",
    "print (\" Largest number in list is:\", numbers[-1]);"
   ]
  },
  {
   "cell_type": "code",
   "execution_count": 16,
   "metadata": {},
   "outputs": [
    {
     "name": "stdout",
     "output_type": "stream",
     "text": [
      "[1, 1, 2, 3]\n"
     ]
    }
   ],
   "source": [
    "'''Q12 : . Take a list, say for example this one: \n",
    "a = [1, 1, 2, 3, 5, 8, 13, 21, 34, 55, 89] \n",
    " Write a program that prints out all the elements of the list that are less than 5.'''\n",
    "a=[1,1,2,3,5,8,13,21,34,55,89];\n",
    "final_list = [];\n",
    "for i in range(0,len(a)):\n",
    "    if a[i] < 5:\n",
    "        final_list.append(a[i]);\n",
    "        \n",
    "print (final_list);"
   ]
  },
  {
   "cell_type": "code",
   "execution_count": null,
   "metadata": {},
   "outputs": [],
   "source": []
  }
 ],
 "metadata": {
  "kernelspec": {
   "display_name": "Python 3",
   "language": "python",
   "name": "python3"
  },
  "language_info": {
   "codemirror_mode": {
    "name": "ipython",
    "version": 3
   },
   "file_extension": ".py",
   "mimetype": "text/x-python",
   "name": "python",
   "nbconvert_exporter": "python",
   "pygments_lexer": "ipython3",
   "version": "3.7.6"
  }
 },
 "nbformat": 4,
 "nbformat_minor": 4
}
